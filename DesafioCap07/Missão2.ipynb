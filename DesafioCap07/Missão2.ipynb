{
 "cells": [
  {
   "cell_type": "markdown",
   "id": "1f507e3b",
   "metadata": {},
   "source": [
    "# Missao 2: Gerar uma lista de números primos"
   ]
  },
  {
   "cell_type": "code",
   "execution_count": 3,
   "id": "1f650be8",
   "metadata": {},
   "outputs": [],
   "source": [
    "# Função\n",
    "def prime_number_generator(num_max):\n",
    "    lista = [1,2,3]\n",
    "    for i in range(5,num_max):\n",
    "        if i%2 == 0:\n",
    "            continue\n",
    "        for j in range(1,len(lista)):\n",
    "            if i%(lista[j]) == 0:\n",
    "                break\n",
    "        else:\n",
    "            lista.append(i)\n",
    "    print(lista)\n",
    "    \n"
   ]
  },
  {
   "cell_type": "code",
   "execution_count": 4,
   "id": "107967c4",
   "metadata": {},
   "outputs": [
    {
     "name": "stdout",
     "output_type": "stream",
     "text": [
      "[1, 2, 3, 5, 7, 11, 13, 17, 19, 23, 29, 31, 37, 41, 43, 47, 53, 59, 61, 67, 71, 73, 79, 83, 89, 97, 101, 103, 107, 109, 113, 127, 131, 137, 139, 149]\n"
     ]
    }
   ],
   "source": [
    "# Teste\n",
    "prime_number_generator(150)"
   ]
  }
 ],
 "metadata": {
  "kernelspec": {
   "display_name": "Python 3 (ipykernel)",
   "language": "python",
   "name": "python3"
  },
  "language_info": {
   "codemirror_mode": {
    "name": "ipython",
    "version": 3
   },
   "file_extension": ".py",
   "mimetype": "text/x-python",
   "name": "python",
   "nbconvert_exporter": "python",
   "pygments_lexer": "ipython3",
   "version": "3.9.7"
  }
 },
 "nbformat": 4,
 "nbformat_minor": 5
}
