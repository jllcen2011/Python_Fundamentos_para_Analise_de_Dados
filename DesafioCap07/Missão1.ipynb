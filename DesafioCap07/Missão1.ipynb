{
 "cells": [
  {
   "cell_type": "markdown",
   "id": "b693569c",
   "metadata": {},
   "source": [
    "# Missão 1: Implementar um algoritmo para determinar se uma string possui todos os caracteres exclusivos."
   ]
  },
  {
   "cell_type": "code",
   "execution_count": 2,
   "id": "e26771ae",
   "metadata": {},
   "outputs": [],
   "source": [
    "# Jeito 1\n",
    "def string_check(string):\n",
    "    palavra = string\n",
    "    verificador = 0\n",
    "    for i in range(len(palavra)): \n",
    "        for j in range(i+1,len(palavra)):\n",
    "            if palavra[i] == palavra[j]:\n",
    "                verificador = 1\n",
    "                break\n",
    "            else:\n",
    "                pass\n",
    "    if verificador == 1 :\n",
    "        print('A palavra', (string), 'possui caracteres repetidos!')\n",
    "    else:\n",
    "        print('A palavra', (string), 'possui caracteres exclusivos!')"
   ]
  },
  {
   "cell_type": "code",
   "execution_count": 3,
   "id": "1c462376",
   "metadata": {},
   "outputs": [],
   "source": [
    "# Jeito 2\n",
    "def string_check(string):\n",
    "    palavra = string\n",
    "    for i in range(len(palavra)): \n",
    "        for j in range(i+1,len(palavra)):\n",
    "            if palavra[i] == palavra[j]:\n",
    "                return print('A palavra', (string), 'possui caracteres repetidos!')\n",
    "            else:\n",
    "                pass\n",
    "    return print('A palavra', (string), 'possui caracteres exclusivos!')"
   ]
  },
  {
   "cell_type": "code",
   "execution_count": 4,
   "id": "06682908",
   "metadata": {},
   "outputs": [],
   "source": [
    "# Jeito 3\n",
    "def string_check(string):\n",
    "   \n",
    "    # Converting string to set\n",
    "    # Esse SET() pega a string e transforma em uma lista com as letras em ordem\n",
    "    # e no caso de letras repetidas, ele coloca como uma só letra\n",
    "    # No caso da palavra gato, fica: {'a', 'g', 'o', 't'}.\n",
    "    # No caso de gata, fica: {'a', 'g','t'}.\n",
    "    # Caso usasse a função SORTED(), ele transformaria numa lista, porém, letras repetidas ele mantém.\n",
    "    # No caso de gata, ficaria: ['a','a','g','t']    \n",
    "    setpalavra = set(string)\n",
    "    if(len(setpalavra) == len(string)):\n",
    "        return print('A palavra', (string), 'possui caracteres exclusivos!')\n",
    "    return print('A palavra', (string), 'possui caracteres repetidos!')\n",
    " "
   ]
  },
  {
   "cell_type": "code",
   "execution_count": 5,
   "id": "c89ca06e",
   "metadata": {},
   "outputs": [
    {
     "name": "stdout",
     "output_type": "stream",
     "text": [
      "A palavra gata possui caracteres repetidos!\n"
     ]
    }
   ],
   "source": [
    "# Teste 1\n",
    "string_check('gata')"
   ]
  },
  {
   "cell_type": "code",
   "execution_count": 6,
   "id": "a48095e3",
   "metadata": {},
   "outputs": [
    {
     "name": "stdout",
     "output_type": "stream",
     "text": [
      "A palavra gato possui caracteres exclusivos!\n"
     ]
    }
   ],
   "source": [
    "# Teste 2\n",
    "string_check('gato')"
   ]
  }
 ],
 "metadata": {
  "kernelspec": {
   "display_name": "Python 3 (ipykernel)",
   "language": "python",
   "name": "python3"
  },
  "language_info": {
   "codemirror_mode": {
    "name": "ipython",
    "version": 3
   },
   "file_extension": ".py",
   "mimetype": "text/x-python",
   "name": "python",
   "nbconvert_exporter": "python",
   "pygments_lexer": "ipython3",
   "version": "3.9.7"
  }
 },
 "nbformat": 4,
 "nbformat_minor": 5
}
