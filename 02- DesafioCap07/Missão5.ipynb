{
 "cells": [
  {
   "cell_type": "markdown",
   "id": "f4fbd145",
   "metadata": {},
   "source": [
    "# Missão 5: Analisar o Comportamento de Compra de Consumidores."
   ]
  },
  {
   "cell_type": "code",
   "execution_count": 2,
   "id": "c4a4f9c5",
   "metadata": {},
   "outputs": [
    {
     "data": {
      "text/html": [
       "<div>\n",
       "<style scoped>\n",
       "    .dataframe tbody tr th:only-of-type {\n",
       "        vertical-align: middle;\n",
       "    }\n",
       "\n",
       "    .dataframe tbody tr th {\n",
       "        vertical-align: top;\n",
       "    }\n",
       "\n",
       "    .dataframe thead th {\n",
       "        text-align: right;\n",
       "    }\n",
       "</style>\n",
       "<table border=\"1\" class=\"dataframe\">\n",
       "  <thead>\n",
       "    <tr style=\"text-align: right;\">\n",
       "      <th></th>\n",
       "      <th>Login</th>\n",
       "      <th>Idade</th>\n",
       "      <th>Sexo</th>\n",
       "      <th>Item ID</th>\n",
       "      <th>Nome do Item</th>\n",
       "      <th>Valor</th>\n",
       "    </tr>\n",
       "  </thead>\n",
       "  <tbody>\n",
       "    <tr>\n",
       "      <th>0</th>\n",
       "      <td>Aelalis34</td>\n",
       "      <td>38</td>\n",
       "      <td>Masculino</td>\n",
       "      <td>165</td>\n",
       "      <td>Bone Crushing Silver Skewer</td>\n",
       "      <td>3.37</td>\n",
       "    </tr>\n",
       "    <tr>\n",
       "      <th>1</th>\n",
       "      <td>Eolo46</td>\n",
       "      <td>21</td>\n",
       "      <td>Masculino</td>\n",
       "      <td>119</td>\n",
       "      <td>Stormbringer, Dark Blade of Ending Misery</td>\n",
       "      <td>2.32</td>\n",
       "    </tr>\n",
       "    <tr>\n",
       "      <th>2</th>\n",
       "      <td>Assastnya25</td>\n",
       "      <td>34</td>\n",
       "      <td>Masculino</td>\n",
       "      <td>174</td>\n",
       "      <td>Primitive Blade</td>\n",
       "      <td>2.46</td>\n",
       "    </tr>\n",
       "    <tr>\n",
       "      <th>3</th>\n",
       "      <td>Pheusrical25</td>\n",
       "      <td>21</td>\n",
       "      <td>Masculino</td>\n",
       "      <td>92</td>\n",
       "      <td>Final Critic</td>\n",
       "      <td>1.36</td>\n",
       "    </tr>\n",
       "    <tr>\n",
       "      <th>4</th>\n",
       "      <td>Aela59</td>\n",
       "      <td>23</td>\n",
       "      <td>Masculino</td>\n",
       "      <td>63</td>\n",
       "      <td>Stormfury Mace</td>\n",
       "      <td>1.27</td>\n",
       "    </tr>\n",
       "    <tr>\n",
       "      <th>...</th>\n",
       "      <td>...</td>\n",
       "      <td>...</td>\n",
       "      <td>...</td>\n",
       "      <td>...</td>\n",
       "      <td>...</td>\n",
       "      <td>...</td>\n",
       "    </tr>\n",
       "    <tr>\n",
       "      <th>775</th>\n",
       "      <td>Eural50</td>\n",
       "      <td>22</td>\n",
       "      <td>Masculino</td>\n",
       "      <td>98</td>\n",
       "      <td>Deadline, Voice Of Subtlety</td>\n",
       "      <td>3.62</td>\n",
       "    </tr>\n",
       "    <tr>\n",
       "      <th>776</th>\n",
       "      <td>Lirtossa78</td>\n",
       "      <td>14</td>\n",
       "      <td>Masculino</td>\n",
       "      <td>104</td>\n",
       "      <td>Gladiator's Glaive</td>\n",
       "      <td>1.36</td>\n",
       "    </tr>\n",
       "    <tr>\n",
       "      <th>777</th>\n",
       "      <td>Tillyrin30</td>\n",
       "      <td>20</td>\n",
       "      <td>Masculino</td>\n",
       "      <td>117</td>\n",
       "      <td>Heartstriker, Legacy of the Light</td>\n",
       "      <td>4.15</td>\n",
       "    </tr>\n",
       "    <tr>\n",
       "      <th>778</th>\n",
       "      <td>Quelaton80</td>\n",
       "      <td>20</td>\n",
       "      <td>Masculino</td>\n",
       "      <td>75</td>\n",
       "      <td>Brutality Ivory Warmace</td>\n",
       "      <td>1.72</td>\n",
       "    </tr>\n",
       "    <tr>\n",
       "      <th>779</th>\n",
       "      <td>Alim85</td>\n",
       "      <td>23</td>\n",
       "      <td>Feminino</td>\n",
       "      <td>107</td>\n",
       "      <td>Splitter, Foe Of Subtlety</td>\n",
       "      <td>3.61</td>\n",
       "    </tr>\n",
       "  </tbody>\n",
       "</table>\n",
       "<p>780 rows × 6 columns</p>\n",
       "</div>"
      ],
      "text/plain": [
       "            Login  Idade       Sexo  Item ID  \\\n",
       "0       Aelalis34     38  Masculino      165   \n",
       "1          Eolo46     21  Masculino      119   \n",
       "2     Assastnya25     34  Masculino      174   \n",
       "3    Pheusrical25     21  Masculino       92   \n",
       "4          Aela59     23  Masculino       63   \n",
       "..            ...    ...        ...      ...   \n",
       "775       Eural50     22  Masculino       98   \n",
       "776    Lirtossa78     14  Masculino      104   \n",
       "777    Tillyrin30     20  Masculino      117   \n",
       "778    Quelaton80     20  Masculino       75   \n",
       "779        Alim85     23   Feminino      107   \n",
       "\n",
       "                                  Nome do Item  Valor  \n",
       "0                  Bone Crushing Silver Skewer   3.37  \n",
       "1    Stormbringer, Dark Blade of Ending Misery   2.32  \n",
       "2                              Primitive Blade   2.46  \n",
       "3                                 Final Critic   1.36  \n",
       "4                               Stormfury Mace   1.27  \n",
       "..                                         ...    ...  \n",
       "775                Deadline, Voice Of Subtlety   3.62  \n",
       "776                         Gladiator's Glaive   1.36  \n",
       "777          Heartstriker, Legacy of the Light   4.15  \n",
       "778                    Brutality Ivory Warmace   1.72  \n",
       "779                  Splitter, Foe Of Subtlety   3.61  \n",
       "\n",
       "[780 rows x 6 columns]"
      ]
     },
     "execution_count": 2,
     "metadata": {},
     "output_type": "execute_result"
    }
   ],
   "source": [
    "import pandas as pd\n",
    "import numpy as np\n",
    "\n",
    "load_file = \"dados_compras.json\"\n",
    "purchase_file = pd.read_json(load_file, orient = \"records\")\n",
    "purchase_file"
   ]
  },
  {
   "cell_type": "markdown",
   "id": "3ba1e3d1",
   "metadata": {},
   "source": [
    "# 1) ** Contagem de Consumidores **\n",
    "\n",
    "### 1.1) Número total de consumidores"
   ]
  },
  {
   "cell_type": "code",
   "execution_count": 3,
   "id": "4e795eb1",
   "metadata": {},
   "outputs": [
    {
     "name": "stdout",
     "output_type": "stream",
     "text": [
      "There are exactly 573 unique customers!\n"
     ]
    }
   ],
   "source": [
    "n_consumidores = purchase_file['Login'].unique()\n",
    "print('There are exactly',len(n_consumidores),'unique customers!')"
   ]
  },
  {
   "cell_type": "markdown",
   "id": "f1660f2a",
   "metadata": {},
   "source": [
    "# 2) ** Análise Geral de Compras **\n",
    "\n",
    "### 2.1) Número de itens exclusivos\n"
   ]
  },
  {
   "cell_type": "code",
   "execution_count": 4,
   "id": "1df3080f",
   "metadata": {},
   "outputs": [
    {
     "name": "stdout",
     "output_type": "stream",
     "text": [
      "There are exactly 183 unique items!\n"
     ]
    }
   ],
   "source": [
    "n_itens = purchase_file['Item ID'].unique()\n",
    "print('There are exactly',len(n_itens),'unique items!')"
   ]
  },
  {
   "cell_type": "markdown",
   "id": "410e6cc4",
   "metadata": {},
   "source": [
    "### 2.2) Preço médio das compras"
   ]
  },
  {
   "cell_type": "code",
   "execution_count": 5,
   "id": "db20f311",
   "metadata": {},
   "outputs": [
    {
     "name": "stdout",
     "output_type": "stream",
     "text": [
      "Sales Average Price: 2.93\n"
     ]
    }
   ],
   "source": [
    "preco_medio_compras = (purchase_file['Valor'].sum())/len(purchase_file)\n",
    "print('Sales Average Price:', round(preco_medio_compras,2))"
   ]
  },
  {
   "cell_type": "markdown",
   "id": "5ad7ba45",
   "metadata": {},
   "source": [
    "### 2.3) Numero Total de Compras por pessoa"
   ]
  },
  {
   "cell_type": "code",
   "execution_count": 6,
   "id": "cdc58541",
   "metadata": {},
   "outputs": [
    {
     "data": {
      "text/html": [
       "<div>\n",
       "<style scoped>\n",
       "    .dataframe tbody tr th:only-of-type {\n",
       "        vertical-align: middle;\n",
       "    }\n",
       "\n",
       "    .dataframe tbody tr th {\n",
       "        vertical-align: top;\n",
       "    }\n",
       "\n",
       "    .dataframe thead th {\n",
       "        text-align: right;\n",
       "    }\n",
       "</style>\n",
       "<table border=\"1\" class=\"dataframe\">\n",
       "  <thead>\n",
       "    <tr style=\"text-align: right;\">\n",
       "      <th></th>\n",
       "      <th>Login</th>\n",
       "      <th>QTD</th>\n",
       "    </tr>\n",
       "  </thead>\n",
       "  <tbody>\n",
       "    <tr>\n",
       "      <th>0</th>\n",
       "      <td>Aelalis34</td>\n",
       "      <td>2</td>\n",
       "    </tr>\n",
       "    <tr>\n",
       "      <th>1</th>\n",
       "      <td>Eolo46</td>\n",
       "      <td>1</td>\n",
       "    </tr>\n",
       "    <tr>\n",
       "      <th>2</th>\n",
       "      <td>Assastnya25</td>\n",
       "      <td>2</td>\n",
       "    </tr>\n",
       "    <tr>\n",
       "      <th>3</th>\n",
       "      <td>Pheusrical25</td>\n",
       "      <td>1</td>\n",
       "    </tr>\n",
       "    <tr>\n",
       "      <th>4</th>\n",
       "      <td>Aela59</td>\n",
       "      <td>1</td>\n",
       "    </tr>\n",
       "    <tr>\n",
       "      <th>...</th>\n",
       "      <td>...</td>\n",
       "      <td>...</td>\n",
       "    </tr>\n",
       "    <tr>\n",
       "      <th>568</th>\n",
       "      <td>Lassista97</td>\n",
       "      <td>1</td>\n",
       "    </tr>\n",
       "    <tr>\n",
       "      <th>569</th>\n",
       "      <td>Sidap51</td>\n",
       "      <td>1</td>\n",
       "    </tr>\n",
       "    <tr>\n",
       "      <th>570</th>\n",
       "      <td>Chamadarsda63</td>\n",
       "      <td>1</td>\n",
       "    </tr>\n",
       "    <tr>\n",
       "      <th>571</th>\n",
       "      <td>Quelaton80</td>\n",
       "      <td>1</td>\n",
       "    </tr>\n",
       "    <tr>\n",
       "      <th>572</th>\n",
       "      <td>Alim85</td>\n",
       "      <td>1</td>\n",
       "    </tr>\n",
       "  </tbody>\n",
       "</table>\n",
       "<p>573 rows × 2 columns</p>\n",
       "</div>"
      ],
      "text/plain": [
       "             Login  QTD\n",
       "0        Aelalis34    2\n",
       "1           Eolo46    1\n",
       "2      Assastnya25    2\n",
       "3     Pheusrical25    1\n",
       "4           Aela59    1\n",
       "..             ...  ...\n",
       "568     Lassista97    1\n",
       "569        Sidap51    1\n",
       "570  Chamadarsda63    1\n",
       "571     Quelaton80    1\n",
       "572         Alim85    1\n",
       "\n",
       "[573 rows x 2 columns]"
      ]
     },
     "metadata": {},
     "output_type": "display_data"
    }
   ],
   "source": [
    "precos = []\n",
    "qtd_compras = []\n",
    "for name in n_consumidores:\n",
    "    for login in range(len(purchase_file['Login'])):\n",
    "        if purchase_file['Login'][login] == name:\n",
    "            precos.append(purchase_file['Valor'][login])\n",
    "        else:\n",
    "            continue\n",
    "    qtd_compras.append(len(precos))\n",
    "    precos = []\n",
    "\n",
    "df2_3= pd.DataFrame()\n",
    "df2_3['Login'] = n_consumidores\n",
    "df2_3['QTD'] = qtd_compras\n",
    "display(df2_3)"
   ]
  },
  {
   "cell_type": "markdown",
   "id": "80ca9f63",
   "metadata": {},
   "source": [
    "### 2.4) Rendimento total"
   ]
  },
  {
   "cell_type": "code",
   "execution_count": 7,
   "id": "10ffffbc",
   "metadata": {},
   "outputs": [
    {
     "name": "stdout",
     "output_type": "stream",
     "text": [
      "Total Income: 2286.33\n"
     ]
    }
   ],
   "source": [
    "rendimento_total = purchase_file['Valor'].sum()\n",
    "print('Total Income:', round(rendimento_total,2))"
   ]
  },
  {
   "cell_type": "markdown",
   "id": "181e4116",
   "metadata": {},
   "source": [
    "# 3) ** Informações Demográficas Por Gênero **\n",
    "\n",
    "### 3.1) Porcentagem e contagem de compradores masculinos"
   ]
  },
  {
   "cell_type": "code",
   "execution_count": 8,
   "id": "a334d949",
   "metadata": {},
   "outputs": [
    {
     "name": "stdout",
     "output_type": "stream",
     "text": [
      "O percentual de compradores masculinos é: 81.15 %\n",
      "A contagem de compradores masculinos é: 465\n"
     ]
    }
   ],
   "source": [
    "lista_sexo = []\n",
    "\n",
    "for name_exclusivo in n_consumidores:\n",
    "    for index in range(len(purchase_file['Sexo'])):\n",
    "        if name_exclusivo == purchase_file['Login'][index]:\n",
    "            lista_sexo.append(purchase_file['Sexo'][index])\n",
    "            break\n",
    "        else:\n",
    "            continue\n",
    "            \n",
    "print('O percentual de compradores masculinos é:', round((lista_sexo.count('Masculino')/len(lista_sexo))*100,2),'%')\n",
    "print('A contagem de compradores masculinos é:', lista_sexo.count('Masculino'))"
   ]
  },
  {
   "cell_type": "markdown",
   "id": "4a50b909",
   "metadata": {},
   "source": [
    "### 3.2) Porcentagem e contagem de compradores femininos"
   ]
  },
  {
   "cell_type": "code",
   "execution_count": 9,
   "id": "c157b1b7",
   "metadata": {},
   "outputs": [
    {
     "name": "stdout",
     "output_type": "stream",
     "text": [
      "O percentual de compradores femininos é: 17.45 %\n",
      "A contagem de compradores femininos é: 100\n"
     ]
    }
   ],
   "source": [
    "lista_sexo = []\n",
    "\n",
    "for name_exclusivo in n_consumidores:\n",
    "    for index in range(len(purchase_file['Sexo'])):\n",
    "        if name_exclusivo == purchase_file['Login'][index]:\n",
    "            lista_sexo.append(purchase_file['Sexo'][index])\n",
    "            break\n",
    "        else:\n",
    "            continue\n",
    "            \n",
    "print('O percentual de compradores femininos é:', round((lista_sexo.count('Feminino')/len(lista_sexo))*100,2),'%')\n",
    "print('A contagem de compradores femininos é:', lista_sexo.count('Feminino'))"
   ]
  },
  {
   "cell_type": "markdown",
   "id": "8c705c2a",
   "metadata": {},
   "source": [
    "### 3.3) Porcentagem e contagem de outros / não divulgados"
   ]
  },
  {
   "cell_type": "code",
   "execution_count": 10,
   "id": "de80356c",
   "metadata": {},
   "outputs": [
    {
     "name": "stdout",
     "output_type": "stream",
     "text": [
      "O percentual de compradores cujo gênero é outro ou não foi divulgado é: 1.4 %\n",
      "A contagem de compradores cujo gênero é outro ou não foi divulgado é: 8\n"
     ]
    }
   ],
   "source": [
    "lista_sexo = []\n",
    "\n",
    "for name_exclusivo in n_consumidores:\n",
    "    for index in range(len(purchase_file['Sexo'])):\n",
    "        if name_exclusivo == purchase_file['Login'][index]:\n",
    "            lista_sexo.append(purchase_file['Sexo'][index])\n",
    "            break\n",
    "        else:\n",
    "            continue\n",
    "            \n",
    "print('O percentual de compradores cujo gênero é outro ou não foi divulgado é:', round((lista_sexo.count(\"Outro / Não Divulgado\")/len(lista_sexo))*100,2),'%')\n",
    "print('A contagem de compradores cujo gênero é outro ou não foi divulgado é:', lista_sexo.count(\"Outro / Não Divulgado\"))"
   ]
  },
  {
   "cell_type": "markdown",
   "id": "02c34c18",
   "metadata": {},
   "source": [
    "# 4) ** Análise de Compras Por Gênero **\n",
    "\n",
    "### 4.1) Número de compras por gênero"
   ]
  },
  {
   "cell_type": "code",
   "execution_count": 11,
   "id": "43e4f2ba",
   "metadata": {},
   "outputs": [
    {
     "data": {
      "text/html": [
       "<div>\n",
       "<style scoped>\n",
       "    .dataframe tbody tr th:only-of-type {\n",
       "        vertical-align: middle;\n",
       "    }\n",
       "\n",
       "    .dataframe tbody tr th {\n",
       "        vertical-align: top;\n",
       "    }\n",
       "\n",
       "    .dataframe thead th {\n",
       "        text-align: right;\n",
       "    }\n",
       "</style>\n",
       "<table border=\"1\" class=\"dataframe\">\n",
       "  <thead>\n",
       "    <tr style=\"text-align: right;\">\n",
       "      <th></th>\n",
       "      <th>Sexo</th>\n",
       "      <th>QTD de Compras por Genero</th>\n",
       "    </tr>\n",
       "  </thead>\n",
       "  <tbody>\n",
       "    <tr>\n",
       "      <th>0</th>\n",
       "      <td>Masculino</td>\n",
       "      <td>633</td>\n",
       "    </tr>\n",
       "    <tr>\n",
       "      <th>1</th>\n",
       "      <td>Feminino</td>\n",
       "      <td>136</td>\n",
       "    </tr>\n",
       "    <tr>\n",
       "      <th>2</th>\n",
       "      <td>Outro / Não Divulgado</td>\n",
       "      <td>11</td>\n",
       "    </tr>\n",
       "  </tbody>\n",
       "</table>\n",
       "</div>"
      ],
      "text/plain": [
       "                    Sexo  QTD de Compras por Genero\n",
       "0              Masculino                        633\n",
       "1               Feminino                        136\n",
       "2  Outro / Não Divulgado                         11"
      ]
     },
     "metadata": {},
     "output_type": "display_data"
    }
   ],
   "source": [
    "precos = []\n",
    "qtd_compras = []\n",
    "for sexo in np.unique(np.array(lista_sexo)):\n",
    "    for genero in range(len(purchase_file['Sexo'])):\n",
    "        if purchase_file['Sexo'][genero] == sexo:\n",
    "            precos.append(purchase_file['Valor'][genero])\n",
    "        else:\n",
    "            continue\n",
    "    qtd_compras.append(len(precos))\n",
    "    precos = []\n",
    "\n",
    "df4_1= pd.DataFrame()\n",
    "df4_1['Sexo'] = np.unique(np.array(lista_sexo))\n",
    "df4_1['QTD de Compras por Genero'] = qtd_compras\n",
    "df4_1 = df4_1.sort_values(by=['QTD de Compras por Genero'], ascending=False).reset_index(drop=True)\n",
    "display(df4_1)"
   ]
  },
  {
   "cell_type": "markdown",
   "id": "214497cf",
   "metadata": {},
   "source": [
    "### 4.2) Preço médio de compra por gênero"
   ]
  },
  {
   "cell_type": "code",
   "execution_count": 12,
   "id": "1dbaf1b6",
   "metadata": {},
   "outputs": [
    {
     "data": {
      "text/html": [
       "<div>\n",
       "<style scoped>\n",
       "    .dataframe tbody tr th:only-of-type {\n",
       "        vertical-align: middle;\n",
       "    }\n",
       "\n",
       "    .dataframe tbody tr th {\n",
       "        vertical-align: top;\n",
       "    }\n",
       "\n",
       "    .dataframe thead th {\n",
       "        text-align: right;\n",
       "    }\n",
       "</style>\n",
       "<table border=\"1\" class=\"dataframe\">\n",
       "  <thead>\n",
       "    <tr style=\"text-align: right;\">\n",
       "      <th></th>\n",
       "      <th>Sexo</th>\n",
       "      <th>Média de Preços</th>\n",
       "    </tr>\n",
       "  </thead>\n",
       "  <tbody>\n",
       "    <tr>\n",
       "      <th>0</th>\n",
       "      <td>Outro / Não Divulgado</td>\n",
       "      <td>3.25</td>\n",
       "    </tr>\n",
       "    <tr>\n",
       "      <th>1</th>\n",
       "      <td>Masculino</td>\n",
       "      <td>2.95</td>\n",
       "    </tr>\n",
       "    <tr>\n",
       "      <th>2</th>\n",
       "      <td>Feminino</td>\n",
       "      <td>2.82</td>\n",
       "    </tr>\n",
       "  </tbody>\n",
       "</table>\n",
       "</div>"
      ],
      "text/plain": [
       "                    Sexo  Média de Preços\n",
       "0  Outro / Não Divulgado             3.25\n",
       "1              Masculino             2.95\n",
       "2               Feminino             2.82"
      ]
     },
     "metadata": {},
     "output_type": "display_data"
    }
   ],
   "source": [
    "precos = []\n",
    "preco_medio = []\n",
    "\n",
    "for sexo in np.unique(np.array(lista_sexo)):\n",
    "    for genero in range(len(purchase_file['Sexo'])):\n",
    "        if purchase_file['Sexo'][genero] == sexo:\n",
    "            precos.append(purchase_file['Valor'][genero])\n",
    "        else:\n",
    "            continue\n",
    "    preco_medio.append(round((np.mean(precos)),2))\n",
    "    precos = []\n",
    "\n",
    "df4_2= pd.DataFrame()\n",
    "df4_2['Sexo'] = np.unique(np.array(lista_sexo))\n",
    "df4_2['Média de Preços'] = preco_medio\n",
    "df4_2 = df4_2.sort_values(by=['Média de Preços'], ascending=False).reset_index(drop=True)\n",
    "display(df4_2)"
   ]
  },
  {
   "cell_type": "markdown",
   "id": "5a6de1eb",
   "metadata": {},
   "source": [
    "### 4.3) Valor Total de Compra"
   ]
  },
  {
   "cell_type": "code",
   "execution_count": 13,
   "id": "a2c4d250",
   "metadata": {},
   "outputs": [
    {
     "data": {
      "text/html": [
       "<div>\n",
       "<style scoped>\n",
       "    .dataframe tbody tr th:only-of-type {\n",
       "        vertical-align: middle;\n",
       "    }\n",
       "\n",
       "    .dataframe tbody tr th {\n",
       "        vertical-align: top;\n",
       "    }\n",
       "\n",
       "    .dataframe thead th {\n",
       "        text-align: right;\n",
       "    }\n",
       "</style>\n",
       "<table border=\"1\" class=\"dataframe\">\n",
       "  <thead>\n",
       "    <tr style=\"text-align: right;\">\n",
       "      <th></th>\n",
       "      <th>Sexo</th>\n",
       "      <th>Valor total de Compra</th>\n",
       "    </tr>\n",
       "  </thead>\n",
       "  <tbody>\n",
       "    <tr>\n",
       "      <th>0</th>\n",
       "      <td>Masculino</td>\n",
       "      <td>1867.68</td>\n",
       "    </tr>\n",
       "    <tr>\n",
       "      <th>1</th>\n",
       "      <td>Feminino</td>\n",
       "      <td>382.91</td>\n",
       "    </tr>\n",
       "    <tr>\n",
       "      <th>2</th>\n",
       "      <td>Outro / Não Divulgado</td>\n",
       "      <td>35.74</td>\n",
       "    </tr>\n",
       "  </tbody>\n",
       "</table>\n",
       "</div>"
      ],
      "text/plain": [
       "                    Sexo  Valor total de Compra\n",
       "0              Masculino                1867.68\n",
       "1               Feminino                 382.91\n",
       "2  Outro / Não Divulgado                  35.74"
      ]
     },
     "metadata": {},
     "output_type": "display_data"
    }
   ],
   "source": [
    "precos = []\n",
    "compra_total = []\n",
    "\n",
    "for sexo in np.unique(np.array(lista_sexo)):\n",
    "    for genero in range(len(purchase_file['Sexo'])):\n",
    "        if purchase_file['Sexo'][genero] == sexo:\n",
    "            precos.append(purchase_file['Valor'][genero])\n",
    "        else:\n",
    "            continue\n",
    "    compra_total.append(sum(precos))\n",
    "    precos = []\n",
    "\n",
    "df4_3= pd.DataFrame()\n",
    "df4_3['Sexo'] = np.unique(np.array(lista_sexo))\n",
    "df4_3['Valor total de Compra'] = compra_total\n",
    "df4_3 = df4_3.sort_values(by=['Valor total de Compra'], ascending=False).reset_index(drop=True)\n",
    "display(df4_3)"
   ]
  },
  {
   "cell_type": "markdown",
   "id": "fec0c2c6",
   "metadata": {},
   "source": [
    "### 4.4) Compras for faixa etária"
   ]
  },
  {
   "cell_type": "code",
   "execution_count": 14,
   "id": "39d78a5a",
   "metadata": {},
   "outputs": [
    {
     "data": {
      "text/html": [
       "<div>\n",
       "<style scoped>\n",
       "    .dataframe tbody tr th:only-of-type {\n",
       "        vertical-align: middle;\n",
       "    }\n",
       "\n",
       "    .dataframe tbody tr th {\n",
       "        vertical-align: top;\n",
       "    }\n",
       "\n",
       "    .dataframe thead th {\n",
       "        text-align: right;\n",
       "    }\n",
       "</style>\n",
       "<table border=\"1\" class=\"dataframe\">\n",
       "  <thead>\n",
       "    <tr style=\"text-align: right;\">\n",
       "      <th></th>\n",
       "      <th>Idade</th>\n",
       "      <th>QTD de Compras por Idade</th>\n",
       "    </tr>\n",
       "  </thead>\n",
       "  <tbody>\n",
       "    <tr>\n",
       "      <th>0</th>\n",
       "      <td>20</td>\n",
       "      <td>98</td>\n",
       "    </tr>\n",
       "    <tr>\n",
       "      <th>1</th>\n",
       "      <td>24</td>\n",
       "      <td>70</td>\n",
       "    </tr>\n",
       "    <tr>\n",
       "      <th>2</th>\n",
       "      <td>22</td>\n",
       "      <td>68</td>\n",
       "    </tr>\n",
       "    <tr>\n",
       "      <th>3</th>\n",
       "      <td>25</td>\n",
       "      <td>67</td>\n",
       "    </tr>\n",
       "    <tr>\n",
       "      <th>4</th>\n",
       "      <td>23</td>\n",
       "      <td>57</td>\n",
       "    </tr>\n",
       "  </tbody>\n",
       "</table>\n",
       "</div>"
      ],
      "text/plain": [
       "   Idade  QTD de Compras por Idade\n",
       "0     20                        98\n",
       "1     24                        70\n",
       "2     22                        68\n",
       "3     25                        67\n",
       "4     23                        57"
      ]
     },
     "execution_count": 14,
     "metadata": {},
     "output_type": "execute_result"
    }
   ],
   "source": [
    "precos = []\n",
    "qtd_compras = []\n",
    "\n",
    "for idade in purchase_file['Idade'].unique():\n",
    "    for year in range(len(purchase_file['Idade'])):\n",
    "        if purchase_file['Idade'][year] == idade:\n",
    "            precos.append(purchase_file['Valor'][year])\n",
    "        else:\n",
    "            continue\n",
    "    qtd_compras.append(len(precos))\n",
    "    precos = []\n",
    "\n",
    "df4_4= pd.DataFrame()\n",
    "df4_4['Idade'] = purchase_file['Idade'].unique()\n",
    "df4_4['QTD de Compras por Idade'] = qtd_compras\n",
    "df4_4 = df4_4.sort_values(by='QTD de Compras por Idade', ascending=False).reset_index(drop=True)\n",
    "df4_4.head()"
   ]
  },
  {
   "cell_type": "markdown",
   "id": "f1c90645",
   "metadata": {},
   "source": [
    "# 5) ** Identifique os 5 principais compradores pelo valor total de compra e, em seguida, liste (em uma tabela): **\n",
    "\n",
    "### Login, Número de compras, Preço médio de compra, Valor Total de Compra, Itens mais populares"
   ]
  },
  {
   "cell_type": "code",
   "execution_count": 15,
   "id": "42994320",
   "metadata": {},
   "outputs": [
    {
     "data": {
      "text/html": [
       "<div>\n",
       "<style scoped>\n",
       "    .dataframe tbody tr th:only-of-type {\n",
       "        vertical-align: middle;\n",
       "    }\n",
       "\n",
       "    .dataframe tbody tr th {\n",
       "        vertical-align: top;\n",
       "    }\n",
       "\n",
       "    .dataframe thead th {\n",
       "        text-align: right;\n",
       "    }\n",
       "</style>\n",
       "<table border=\"1\" class=\"dataframe\">\n",
       "  <thead>\n",
       "    <tr style=\"text-align: right;\">\n",
       "      <th></th>\n",
       "      <th>Login</th>\n",
       "      <th>Valor Total de Compras por Pessoa</th>\n",
       "      <th>Número de Compras</th>\n",
       "      <th>Preço Médio de Compra</th>\n",
       "      <th>ID dos Itens Comprados</th>\n",
       "    </tr>\n",
       "  </thead>\n",
       "  <tbody>\n",
       "    <tr>\n",
       "      <th>0</th>\n",
       "      <td>Undirrala66</td>\n",
       "      <td>17.06</td>\n",
       "      <td>5</td>\n",
       "      <td>3.41</td>\n",
       "      <td>[144, 115, 62, 18, 133]</td>\n",
       "    </tr>\n",
       "    <tr>\n",
       "      <th>1</th>\n",
       "      <td>Saedue76</td>\n",
       "      <td>13.56</td>\n",
       "      <td>4</td>\n",
       "      <td>3.39</td>\n",
       "      <td>[13, 140, 7, 73]</td>\n",
       "    </tr>\n",
       "    <tr>\n",
       "      <th>2</th>\n",
       "      <td>Mindimnya67</td>\n",
       "      <td>12.74</td>\n",
       "      <td>4</td>\n",
       "      <td>3.18</td>\n",
       "      <td>[140, 163, 145, 161]</td>\n",
       "    </tr>\n",
       "    <tr>\n",
       "      <th>3</th>\n",
       "      <td>Haellysu29</td>\n",
       "      <td>12.73</td>\n",
       "      <td>3</td>\n",
       "      <td>4.24</td>\n",
       "      <td>[96, 166, 91]</td>\n",
       "    </tr>\n",
       "    <tr>\n",
       "      <th>4</th>\n",
       "      <td>Eoda93</td>\n",
       "      <td>11.58</td>\n",
       "      <td>3</td>\n",
       "      <td>3.86</td>\n",
       "      <td>[35, 173, 76]</td>\n",
       "    </tr>\n",
       "  </tbody>\n",
       "</table>\n",
       "</div>"
      ],
      "text/plain": [
       "         Login  Valor Total de Compras por Pessoa  Número de Compras  \\\n",
       "0  Undirrala66                              17.06                  5   \n",
       "1     Saedue76                              13.56                  4   \n",
       "2  Mindimnya67                              12.74                  4   \n",
       "3   Haellysu29                              12.73                  3   \n",
       "4       Eoda93                              11.58                  3   \n",
       "\n",
       "   Preço Médio de Compra   ID dos Itens Comprados  \n",
       "0                   3.41  [144, 115, 62, 18, 133]  \n",
       "1                   3.39         [13, 140, 7, 73]  \n",
       "2                   3.18     [140, 163, 145, 161]  \n",
       "3                   4.24            [96, 166, 91]  \n",
       "4                   3.86            [35, 173, 76]  "
      ]
     },
     "execution_count": 15,
     "metadata": {},
     "output_type": "execute_result"
    }
   ],
   "source": [
    "precos = []\n",
    "valor_total_compras = []\n",
    "for name in n_consumidores:\n",
    "    for login in range(len(purchase_file['Login'])):\n",
    "        if purchase_file['Login'][login] == name:\n",
    "            precos.append(purchase_file['Valor'][login])\n",
    "        else:\n",
    "            continue\n",
    "    valor_total_compras.append(sum(precos))\n",
    "    precos = []\n",
    "\n",
    "df5= pd.DataFrame()\n",
    "df5['Login'] = n_consumidores\n",
    "df5['Valor Total de Compras por Pessoa'] = valor_total_compras\n",
    "df5 = df5.sort_values(by='Valor Total de Compras por Pessoa', ascending = False).reset_index(drop=True)\n",
    "df5['Número de Compras'] = [df2_3.loc[df2_3['Login'] == df5['Login'][i],'QTD'].values[0] for i in range(len(df5['Login']))]\n",
    "df5['Preço Médio de Compra'] = round((df5['Valor Total de Compras por Pessoa']/df5['Número de Compras']),2)\n",
    "\n",
    "itemID = []\n",
    "dict_IDitem = {}\n",
    "for name in n_consumidores:\n",
    "    for login in range(len(purchase_file['Login'])):\n",
    "        if purchase_file['Login'][login] == name:\n",
    "            itemID.append(purchase_file['Item ID'][login])\n",
    "        else:\n",
    "            continue\n",
    "    dict_IDitem[name] = itemID\n",
    "    itemID = []\n",
    "df5['ID dos Itens Comprados'] = [[df5['Login'][i] == dict_IDitem.keys(), dict_IDitem[df5['Login'][i]]][1] for i in range(len(df5['Login']))]\n",
    "    \n",
    "df5.head()"
   ]
  },
  {
   "cell_type": "markdown",
   "id": "a7746b05",
   "metadata": {},
   "source": [
    "## 6) ** Identifique os 5 itens mais populares por contagem de compras e, em seguida, liste (em uma tabela): **\n",
    "\n",
    "### ID do item, Nome do item, Número de compras, Preço do item, Valor Total de Compra, Itens mais lucrativos"
   ]
  },
  {
   "cell_type": "code",
   "execution_count": 16,
   "id": "66d4abaa",
   "metadata": {},
   "outputs": [
    {
     "data": {
      "text/html": [
       "<div>\n",
       "<style scoped>\n",
       "    .dataframe tbody tr th:only-of-type {\n",
       "        vertical-align: middle;\n",
       "    }\n",
       "\n",
       "    .dataframe tbody tr th {\n",
       "        vertical-align: top;\n",
       "    }\n",
       "\n",
       "    .dataframe thead th {\n",
       "        text-align: right;\n",
       "    }\n",
       "</style>\n",
       "<table border=\"1\" class=\"dataframe\">\n",
       "  <thead>\n",
       "    <tr style=\"text-align: right;\">\n",
       "      <th></th>\n",
       "      <th>Item ID</th>\n",
       "      <th>Nome do Item</th>\n",
       "      <th>Número de Compras por Item</th>\n",
       "      <th>Preço do Item</th>\n",
       "      <th>Valor Total de Compra</th>\n",
       "    </tr>\n",
       "  </thead>\n",
       "  <tbody>\n",
       "    <tr>\n",
       "      <th>0</th>\n",
       "      <td>39</td>\n",
       "      <td>Betrayal, Whisper of Grieving Widows</td>\n",
       "      <td>11</td>\n",
       "      <td>2.35</td>\n",
       "      <td>25.85</td>\n",
       "    </tr>\n",
       "    <tr>\n",
       "      <th>1</th>\n",
       "      <td>84</td>\n",
       "      <td>Arcane Gem</td>\n",
       "      <td>11</td>\n",
       "      <td>2.23</td>\n",
       "      <td>24.53</td>\n",
       "    </tr>\n",
       "    <tr>\n",
       "      <th>2</th>\n",
       "      <td>175</td>\n",
       "      <td>Woeful Adamantite Claymore</td>\n",
       "      <td>9</td>\n",
       "      <td>1.24</td>\n",
       "      <td>11.16</td>\n",
       "    </tr>\n",
       "    <tr>\n",
       "      <th>3</th>\n",
       "      <td>13</td>\n",
       "      <td>Serenity</td>\n",
       "      <td>9</td>\n",
       "      <td>1.49</td>\n",
       "      <td>13.41</td>\n",
       "    </tr>\n",
       "    <tr>\n",
       "      <th>4</th>\n",
       "      <td>31</td>\n",
       "      <td>Trickster</td>\n",
       "      <td>9</td>\n",
       "      <td>2.07</td>\n",
       "      <td>18.63</td>\n",
       "    </tr>\n",
       "  </tbody>\n",
       "</table>\n",
       "</div>"
      ],
      "text/plain": [
       "   Item ID                          Nome do Item  Número de Compras por Item  \\\n",
       "0       39  Betrayal, Whisper of Grieving Widows                          11   \n",
       "1       84                            Arcane Gem                          11   \n",
       "2      175            Woeful Adamantite Claymore                           9   \n",
       "3       13                              Serenity                           9   \n",
       "4       31                             Trickster                           9   \n",
       "\n",
       "   Preço do Item  Valor Total de Compra  \n",
       "0           2.35                  25.85  \n",
       "1           2.23                  24.53  \n",
       "2           1.24                  11.16  \n",
       "3           1.49                  13.41  \n",
       "4           2.07                  18.63  "
      ]
     },
     "execution_count": 16,
     "metadata": {},
     "output_type": "execute_result"
    }
   ],
   "source": [
    "precos = []\n",
    "qtd_compras = []\n",
    "for item in n_itens:\n",
    "    for identidade in range(len(purchase_file['Item ID'])):\n",
    "        if purchase_file['Item ID'][identidade] == item:\n",
    "            precos.append(purchase_file['Valor'][identidade])\n",
    "        else:\n",
    "            continue\n",
    "    qtd_compras.append(len(precos))\n",
    "    precos = []\n",
    "\n",
    "df6 = pd.DataFrame()\n",
    "df6['Item ID'] = n_itens\n",
    "df6['Nome do Item'] = [purchase_file.loc[purchase_file['Item ID'] == df6['Item ID'][i],'Nome do Item'].values[0] for i in range(len(df6['Item ID']))]\n",
    "df6['Número de Compras por Item'] = qtd_compras\n",
    "df6 = df6.sort_values(by='Número de Compras por Item', ascending = False).reset_index(drop=True)\n",
    "df6['Preço do Item'] = [purchase_file.loc[purchase_file['Item ID'] == df6['Item ID'][i],'Valor'].values[0] for i in range(len(df6['Item ID']))]\n",
    "df6['Valor Total de Compra'] = round((df6['Preço do Item']*df6['Número de Compras por Item']),2)\n",
    "df6.head()"
   ]
  },
  {
   "cell_type": "markdown",
   "id": "8901c763",
   "metadata": {},
   "source": [
    "## 7) ** Identifique os 5 itens mais lucrativos pelo valor total de compra e, em seguida, liste (em uma tabela): **\n",
    "\n",
    "### ID do item, Nome do item, Número de compras, Preço do item, Valor Total de Compra"
   ]
  },
  {
   "cell_type": "code",
   "execution_count": 17,
   "id": "42a7c416",
   "metadata": {},
   "outputs": [
    {
     "data": {
      "text/html": [
       "<div>\n",
       "<style scoped>\n",
       "    .dataframe tbody tr th:only-of-type {\n",
       "        vertical-align: middle;\n",
       "    }\n",
       "\n",
       "    .dataframe tbody tr th {\n",
       "        vertical-align: top;\n",
       "    }\n",
       "\n",
       "    .dataframe thead th {\n",
       "        text-align: right;\n",
       "    }\n",
       "</style>\n",
       "<table border=\"1\" class=\"dataframe\">\n",
       "  <thead>\n",
       "    <tr style=\"text-align: right;\">\n",
       "      <th></th>\n",
       "      <th>Item ID</th>\n",
       "      <th>Nome do Item</th>\n",
       "      <th>Número de Compras por Item</th>\n",
       "      <th>Preço do Item</th>\n",
       "      <th>Valor Total de Compra</th>\n",
       "    </tr>\n",
       "  </thead>\n",
       "  <tbody>\n",
       "    <tr>\n",
       "      <th>0</th>\n",
       "      <td>34</td>\n",
       "      <td>Retribution Axe</td>\n",
       "      <td>9</td>\n",
       "      <td>4.14</td>\n",
       "      <td>37.26</td>\n",
       "    </tr>\n",
       "    <tr>\n",
       "      <th>1</th>\n",
       "      <td>115</td>\n",
       "      <td>Spectral Diamond Doomblade</td>\n",
       "      <td>7</td>\n",
       "      <td>4.25</td>\n",
       "      <td>29.75</td>\n",
       "    </tr>\n",
       "    <tr>\n",
       "      <th>2</th>\n",
       "      <td>32</td>\n",
       "      <td>Orenmir</td>\n",
       "      <td>6</td>\n",
       "      <td>4.95</td>\n",
       "      <td>29.70</td>\n",
       "    </tr>\n",
       "    <tr>\n",
       "      <th>3</th>\n",
       "      <td>103</td>\n",
       "      <td>Singed Scalpel</td>\n",
       "      <td>6</td>\n",
       "      <td>4.87</td>\n",
       "      <td>29.22</td>\n",
       "    </tr>\n",
       "    <tr>\n",
       "      <th>4</th>\n",
       "      <td>107</td>\n",
       "      <td>Splitter, Foe Of Subtlety</td>\n",
       "      <td>8</td>\n",
       "      <td>3.61</td>\n",
       "      <td>28.88</td>\n",
       "    </tr>\n",
       "  </tbody>\n",
       "</table>\n",
       "</div>"
      ],
      "text/plain": [
       "   Item ID                Nome do Item  Número de Compras por Item  \\\n",
       "0       34             Retribution Axe                           9   \n",
       "1      115  Spectral Diamond Doomblade                           7   \n",
       "2       32                     Orenmir                           6   \n",
       "3      103              Singed Scalpel                           6   \n",
       "4      107   Splitter, Foe Of Subtlety                           8   \n",
       "\n",
       "   Preço do Item  Valor Total de Compra  \n",
       "0           4.14                  37.26  \n",
       "1           4.25                  29.75  \n",
       "2           4.95                  29.70  \n",
       "3           4.87                  29.22  \n",
       "4           3.61                  28.88  "
      ]
     },
     "execution_count": 17,
     "metadata": {},
     "output_type": "execute_result"
    }
   ],
   "source": [
    "precos = []\n",
    "qtd_compras = []\n",
    "for item in n_itens:\n",
    "    for identidade in range(len(purchase_file['Item ID'])):\n",
    "        if purchase_file['Item ID'][identidade] == item:\n",
    "            precos.append(purchase_file['Valor'][identidade])\n",
    "        else:\n",
    "            continue\n",
    "    qtd_compras.append(len(precos))\n",
    "    precos = []\n",
    "\n",
    "df7 = pd.DataFrame()\n",
    "df7['Item ID'] = n_itens\n",
    "df7['Nome do Item'] = [purchase_file.loc[purchase_file['Item ID'] == df7['Item ID'][i],'Nome do Item'].values[0] for i in range(len(df7['Item ID']))]\n",
    "df7['Número de Compras por Item'] = qtd_compras\n",
    "df7['Preço do Item'] = [purchase_file.loc[purchase_file['Item ID'] == df7['Item ID'][i],'Valor'].values[0] for i in range(len(df7['Item ID']))]\n",
    "df7['Valor Total de Compra'] = round((df7['Preço do Item']*df7['Número de Compras por Item']),2)\n",
    "df7 = df7.sort_values(by='Valor Total de Compra', ascending = False).reset_index(drop=True)\n",
    "df7.head()"
   ]
  }
 ],
 "metadata": {
  "kernelspec": {
   "display_name": "Python 3 (ipykernel)",
   "language": "python",
   "name": "python3"
  },
  "language_info": {
   "codemirror_mode": {
    "name": "ipython",
    "version": 3
   },
   "file_extension": ".py",
   "mimetype": "text/x-python",
   "name": "python",
   "nbconvert_exporter": "python",
   "pygments_lexer": "ipython3",
   "version": "3.9.7"
  }
 },
 "nbformat": 4,
 "nbformat_minor": 5
}
