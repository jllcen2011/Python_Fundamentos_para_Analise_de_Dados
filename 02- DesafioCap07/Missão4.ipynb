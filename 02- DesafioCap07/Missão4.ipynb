{
 "cells": [
  {
   "cell_type": "markdown",
   "id": "8d927429",
   "metadata": {},
   "source": [
    "# Missão 4: Implementar o Algoritmo de Ordenação \"Selection sort\"."
   ]
  },
  {
   "cell_type": "code",
   "execution_count": 3,
   "id": "f603847f",
   "metadata": {},
   "outputs": [],
   "source": [
    "import pandas as pd\n",
    "\n",
    "# CRIANDO FUNÇÃO\n",
    "def ordena(lista):\n",
    "    lista_nova=[]\n",
    "    df = pd.DataFrame()\n",
    "    aparicoes =[]\n",
    "    lista_final = []\n",
    "    \n",
    "    for i in range(len(lista)):\n",
    "        for j in range(len(lista)):\n",
    "            if lista[i]>lista[j]:\n",
    "                continue \n",
    "            else:\n",
    "                lista[j], lista[i] = lista[i], lista[j]\n",
    "    \n",
    "    print(lista)\n",
    "\n",
    "\n"
   ]
  },
  {
   "cell_type": "code",
   "execution_count": 4,
   "id": "d072330c",
   "metadata": {},
   "outputs": [
    {
     "name": "stdout",
     "output_type": "stream",
     "text": [
      "['beli', 'cristiano ronaldo', 'joao', 'joaquim', 'mae', 'manoel', 'pai', 'washington']\n"
     ]
    }
   ],
   "source": [
    "# TESTE\n",
    "lista = ['joao','beli','washington','mae', 'pai', 'manoel', 'joaquim', 'cristiano ronaldo']\n",
    "ordena(lista)"
   ]
  }
 ],
 "metadata": {
  "kernelspec": {
   "display_name": "Python 3 (ipykernel)",
   "language": "python",
   "name": "python3"
  },
  "language_info": {
   "codemirror_mode": {
    "name": "ipython",
    "version": 3
   },
   "file_extension": ".py",
   "mimetype": "text/x-python",
   "name": "python",
   "nbconvert_exporter": "python",
   "pygments_lexer": "ipython3",
   "version": "3.9.7"
  }
 },
 "nbformat": 4,
 "nbformat_minor": 5
}
