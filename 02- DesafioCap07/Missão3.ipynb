{
 "cells": [
  {
   "cell_type": "markdown",
   "id": "81293645",
   "metadata": {},
   "source": [
    "## Missão: Implementar um algoritmo para mover um robô do canto superior esquerdo para o canto inferior direito de uma grade."
   ]
  },
  {
   "cell_type": "code",
   "execution_count": null,
   "id": "6c31c787",
   "metadata": {},
   "outputs": [],
   "source": [
    "def joguinho():\n",
    "    \n",
    "    print('Seja bem-vindo!\\n')\n",
    "    print('Faça com que o sinal de \"menor\" encontre o sinal de \"maior!\"\\n')\n",
    "    print('Somente poderá fazer movimentos para a direita e para baixo!\"\\n')\n",
    "    print('Que comecem os jogos!!!\"\\n')\n",
    "    grid = [['<','.','.','.'],\n",
    "            ['.','X','.','.'],\n",
    "            ['.','.','X','.'],\n",
    "            ['X','.','.','.'],\n",
    "            ['.','.','X','.'],\n",
    "            ['.','.','.','X'],\n",
    "            ['.','X','.','X'],\n",
    "            ['.','X','.','>']]\n",
    "    display(grid)\n",
    "    \n",
    "    print('\\n')\n",
    "    linha_nova = int(input(\"Qual o número da linha que deseja ir? \"))\n",
    "    coluna_nova = int(input(\"Qual o número da coluna que deseja ir? \"))\n",
    "    \n",
    "    grid[linha_nova][coluna_nova] = '<'\n",
    "    grid[0][0] = '.'\n",
    "    display(grid)\n",
    "    \n",
    "    while int(linha_nova) != 7 or int(coluna_nova) != 3:\n",
    "        linha_antiga = linha_nova\n",
    "        coluna_antiga = coluna_nova\n",
    "        linha_nova = int(input(\"Qual o número da linha que deseja ir? \"))\n",
    "        coluna_nova = int(input(\"Qual o número da coluna que deseja ir? \"))\n",
    "        grid[linha_nova][coluna_nova] = '<'\n",
    "        grid[linha_antiga][coluna_antiga] = '.'\n",
    "        display(grid)\n",
    "    \n",
    "    grid[7][3] = '<>'\n",
    "    \n",
    "    print('Parabéns!!')\n",
    "    print('Você conseguiu!!')\n",
    "    print('O sinal de \"menor\" encontrou o sinal de \"maior!')\n",
    "    display(grid)"
   ]
  }
 ],
 "metadata": {
  "kernelspec": {
   "display_name": "Python 3 (ipykernel)",
   "language": "python",
   "name": "python3"
  },
  "language_info": {
   "codemirror_mode": {
    "name": "ipython",
    "version": 3
   },
   "file_extension": ".py",
   "mimetype": "text/x-python",
   "name": "python",
   "nbconvert_exporter": "python",
   "pygments_lexer": "ipython3",
   "version": "3.9.7"
  }
 },
 "nbformat": 4,
 "nbformat_minor": 5
}
